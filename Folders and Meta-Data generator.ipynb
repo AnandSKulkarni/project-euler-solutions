{
 "cells": [
  {
   "cell_type": "code",
   "execution_count": 1,
   "metadata": {},
   "outputs": [],
   "source": [
    "import requests\n",
    "from lxml import html\n",
    "import os\n",
    "import string\n",
    "import datetime"
   ]
  },
  {
   "cell_type": "code",
   "execution_count": 2,
   "metadata": {},
   "outputs": [],
   "source": [
    "now=datetime.datetime.now().strftime('%b %d, %Y')"
   ]
  },
  {
   "cell_type": "code",
   "execution_count": 3,
   "metadata": {},
   "outputs": [],
   "source": [
    "ans={}\n",
    "for problem in range(1,3):\n",
    "    base_url=\"https://projecteuler.net/problem=\"\n",
    "    data=requests.get(base_url+str(problem)).content\n",
    "    tree=html.fromstring(data)\n",
    "    title=tree.xpath('//h2//text()')[0]\n",
    "    problem_statement=tree.xpath('//div[@class=\"problem_content\"]//text()')\n",
    "    ans[problem]={'problem_statement' : problem_statement ,  'title': title}"
   ]
  },
  {
   "cell_type": "code",
   "execution_count": 4,
   "metadata": {},
   "outputs": [],
   "source": [
    "template='''\n",
    "# -*- coding: utf-8 -*-\n",
    "\\'\\'\\'\n",
    "    File name: {}\n",
    "    Author: Vaidic Joshi\n",
    "    Date created: {}\n",
    "    Python Version: 3.x\n",
    "\\'\\'\\'\n",
    "\n",
    "# Solution to Project Euler Problem #{} :: {}\n",
    "# \n",
    "# For more information see:\n",
    "# https://projecteuler.net/problem={}\n",
    "\n",
    "# Problem Statement \n",
    "\\'\\'\\'\n",
    "{}\n",
    "\\'\\'\\'\n",
    "\n",
    "# Solution \n",
    "\n",
    "# Solution Approach \n",
    "\\'\\'\\'\n",
    "\\'\\'\\'\n",
    "'''"
   ]
  },
  {
   "cell_type": "code",
   "execution_count": 5,
   "metadata": {},
   "outputs": [],
   "source": [
    "template_readme='''\n",
    "- [ ] Problem #{}  [{}]({}) | [Link to Project Euler Problem](https://projecteuler.net/problem={})\n",
    "'''"
   ]
  },
  {
   "cell_type": "code",
   "execution_count": 10,
   "metadata": {},
   "outputs": [],
   "source": [
    "for k,v in ans.items() : \n",
    "    folder=v['title'].translate(str.maketrans(string.whitespace, \"_\"*len(string.whitespace), string.punctuation)).lower()\n",
    "    os.mkdir(folder)\n",
    "    file=os.path.join(folder,\"solution__\"+folder+'.py')\n",
    "    with open(file,'w') as f: \n",
    "        f.write(template.format(file,now,str(k),v['title'],k,''.join(v['problem_statement']).strip()))\n",
    "    with open('README.md','a') as r: \n",
    "        r.write(template_readme.format(k,v['title'],'/'+folder+'/solution__'+folder+'.py',k))"
   ]
  },
  {
   "cell_type": "code",
   "execution_count": 7,
   "metadata": {},
   "outputs": [
    {
     "name": "stdout",
     "output_type": "stream",
     "text": [
      "Done\n"
     ]
    }
   ],
   "source": [
    "print(\"Done\")"
   ]
  }
 ],
 "metadata": {
  "kernelspec": {
   "display_name": "Python 3",
   "language": "python",
   "name": "python3"
  },
  "language_info": {
   "codemirror_mode": {
    "name": "ipython",
    "version": 3
   },
   "file_extension": ".py",
   "mimetype": "text/x-python",
   "name": "python",
   "nbconvert_exporter": "python",
   "pygments_lexer": "ipython3",
   "version": "3.6.5"
  }
 },
 "nbformat": 4,
 "nbformat_minor": 2
}
